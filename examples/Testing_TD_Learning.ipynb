{
  "cells": [
    {
      "cell_type": "markdown",
      "metadata": {},
      "source": [
        "# Testing TD-Learning"
      ]
    },
    {
      "cell_type": "code",
      "execution_count": 1,
      "metadata": {
        "id": "mhqXaJkjbpVm"
      },
      "outputs": [],
      "source": [
        "import numpy as np\n",
        "import itertools\n",
        "import random\n",
        "import pandas as pd\n",
        "\n",
        "import matplotlib.pyplot as plt\n",
        "import seaborn as sns\n",
        "\n",
        "import os\n",
        "import sys\n",
        "\n",
        "sys.path.append( os.path.join('..') )\n",
        "from RLearning.envrioments import SimplifiedBlackjack\n",
        "from RLearning.temporal_difference import NStepSarsa, SARSA\n",
        "from RLearning.interfaces import TabularInterface\n",
        "\n",
        "from RLearning.envrioments import RandomDiscreteWalk\n",
        "\n",
        "from sklearn.metrics import mean_squared_error"
      ]
    },
    {
      "cell_type": "markdown",
      "metadata": {},
      "source": [
        "## N-Step TD"
      ]
    },
    {
      "cell_type": "code",
      "execution_count": 8,
      "metadata": {},
      "outputs": [
        {
          "data": {
            "text/plain": [
              "[0.16666666666666666,\n",
              " 0.3333333333333333,\n",
              " 0.5,\n",
              " 0.6666666666666666,\n",
              " 0.8333333333333334,\n",
              " 0]"
            ]
          },
          "execution_count": 8,
          "metadata": {},
          "output_type": "execute_result"
        }
      ],
      "source": [
        "envrioment = RandomDiscreteWalk()\n",
        "true_state_values = [ i/6 for i in range(1, 6+1) ]\n",
        "true_state_values[-1] = 0 # Terminal state\n",
        "true_state_values"
      ]
    },
    {
      "cell_type": "code",
      "execution_count": 27,
      "metadata": {},
      "outputs": [
        {
          "name": "stdout",
          "output_type": "stream",
          "text": [
            "CPU times: total: 10.8 s\n",
            "Wall time: 11 s\n"
          ]
        }
      ],
      "source": [
        "%%time\n",
        "alpha_values = np.linspace(0.1, 1, 20) \n",
        "interfaces = [ TabularInterface( alpha=alpha, alpha_decay=\"constant\" )\n",
        "               for alpha in alpha_values\n",
        "             ]\n",
        "mean_rmse_erros = []\n",
        "\n",
        "for interface in interfaces:\n",
        "\n",
        "  mse_errors = []\n",
        "  for repetition in range(100):\n",
        "    agent = NStepSarsa( env_interface=interface, episodes=1, n_steps=10 )\n",
        "    mse_episode_errors = []\n",
        "    for episode in range(10):\n",
        "      agent.fit(envrioment)\n",
        "      mse_error = mean_squared_error(true_state_values, agent.env_interface.state_value)\n",
        "      mse_episode_errors.append( mse_error )\n",
        "      \n",
        "    mse_errors.append( np.mean(mse_episode_errors) )\n",
        "\n",
        "  mean_rmse_erros.append( np.sqrt( np.mean(mse_errors) ) )"
      ]
    },
    {
      "cell_type": "code",
      "execution_count": 28,
      "metadata": {},
      "outputs": [
        {
          "data": {
            "text/plain": [
              "[<matplotlib.lines.Line2D at 0x1055e0e1f0>]"
            ]
          },
          "execution_count": 28,
          "metadata": {},
          "output_type": "execute_result"
        },
        {
          "data": {
            "image/png": "[encoded data removed]",
            "text/plain": [
              "<Figure size 432x288 with 1 Axes>"
            ]
          },
          "metadata": {
            "needs_background": "light"
          },
          "output_type": "display_data"
        }
      ],
      "source": [
        "plt.plot( alpha_values, mean_rmse_erros )"
      ]
    },
    {
      "cell_type": "code",
      "execution_count": null,
      "metadata": {},
      "outputs": [],
      "source": []
    }
  ],
  "metadata": {
    "colab": {
      "name": "Testing TD-Learning.ipynb",
      "provenance": []
    },
    "kernelspec": {
      "display_name": "Python 3",
      "name": "python3"
    },
    "language_info": {
      "codemirror_mode": {
        "name": "ipython",
        "version": 3
      },
      "file_extension": ".py",
      "mimetype": "text/x-python",
      "name": "python",
      "nbconvert_exporter": "python",
      "pygments_lexer": "ipython3",
      "version": "3.9.5"
    }
  },
  "nbformat": 4,
  "nbformat_minor": 0
}
