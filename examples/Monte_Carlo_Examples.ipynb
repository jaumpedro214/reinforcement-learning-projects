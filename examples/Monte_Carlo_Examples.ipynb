{
  "cells": [
    {
      "cell_type": "markdown",
      "metadata": {},
      "source": [
        "# Monte Carlo"
      ]
    },
    {
      "cell_type": "markdown",
      "metadata": {},
      "source": [
        "Monte Carlo is a method for policy control/estimation that is based on optimizing a long time reward.\n",
        "\n",
        "That is, a reward of a pair state-action $(S_t,a)$ will be expected to be: \n",
        "\n",
        "$G_t = R_t + \\gamma R_{t+1} + \\gamma^2R_{t+2} + \\dots + \\gamma^{T-t} R_T$\n",
        "\n",
        "Where $\\gamma$ is the discount factor of a reward.\n",
        "\n",
        "The optimal policy $\\pi$ will be greedy according $q(S, a)$:\n",
        "\n",
        "$\\pi(S) = \\underset{a}{\\text{argmax}}\\ q(S, :)$"
      ]
    },
    {
      "cell_type": "markdown",
      "metadata": {},
      "source": [
        "## Initial Imports\n"
      ]
    },
    {
      "cell_type": "code",
      "execution_count": 108,
      "metadata": {
        "id": "eHN5XyEe0yul"
      },
      "outputs": [],
      "source": [
        "import numpy as np\n",
        "import itertools\n",
        "import random\n",
        "import pandas as pd\n",
        "\n",
        "import matplotlib.pyplot as plt\n",
        "import seaborn as sns\n",
        "\n",
        "import os\n",
        "import sys"
      ]
    },
    {
      "cell_type": "markdown",
      "metadata": {
        "id": "FiGkBtTTu-6H"
      },
      "source": [
        "## Monte Carlo Methods"
      ]
    },
    {
      "cell_type": "code",
      "execution_count": 109,
      "metadata": {},
      "outputs": [],
      "source": [
        "sys.path.append( os.path.join('..') )\n",
        "from RLearning.envrioments import SimplifiedBlackjack\n",
        "from RLearning.monte_carlo import MonteCarlo"
      ]
    },
    {
      "cell_type": "markdown",
      "metadata": {
        "id": "ktOyMR4deeVH"
      },
      "source": [
        "### Example - 'Pseudo' Blackjack"
      ]
    },
    {
      "cell_type": "markdown",
      "metadata": {
        "id": "ODtAfUeOtmyx"
      },
      "source": [
        "This example implements Monte Carlo Algorithm to solve the Blackjack problem with the following considerations:\n",
        "\n",
        "- Optimizing the state and state-action iteratively"
      ]
    },
    {
      "cell_type": "markdown",
      "metadata": {
        "id": "iHzHJkvboM17"
      },
      "source": [
        "Training the model"
      ]
    },
    {
      "cell_type": "code",
      "execution_count": 110,
      "metadata": {},
      "outputs": [
        {
          "name": "stdout",
          "output_type": "stream",
          "text": [
            "CPU times: total: 1h 2min 11s\n",
            "Wall time: 1h 33min 43s\n"
          ]
        }
      ],
      "source": [
        "%%time\n",
        "montecarlo = MonteCarlo( episodes=50000000, eps=0.001 )\n",
        "envrioment = SimplifiedBlackjack( )\n",
        "montecarlo.fit( envrioment )"
      ]
    },
    {
      "cell_type": "markdown",
      "metadata": {
        "id": "wX5Rrc2zoOxC"
      },
      "source": [
        "Visualizing the resulting policy"
      ]
    },
    {
      "cell_type": "code",
      "execution_count": 111,
      "metadata": {},
      "outputs": [],
      "source": [
        "states = envrioment.states\n",
        "state_to_id = montecarlo.env_interface._state_to_id\n",
        "\n",
        "policy = { state:montecarlo.env_interface.choose_greedy_action( state_to_id[state] ) for state in states }"
      ]
    },
    {
      "cell_type": "code",
      "execution_count": 112,
      "metadata": {
        "colab": {
          "base_uri": "https://localhost:8080/",
          "height": 379
        },
        "id": "XlUJOmfrl5Zr",
        "outputId": "2d0ee2c5-4732-48ae-cf45-5e4cf54d7840"
      },
      "outputs": [
        {
          "data": {
            "text/plain": [
              "Text(0.5, 0.98, 'Policy for each state')"
            ]
          },
          "execution_count": 112,
          "metadata": {},
          "output_type": "execute_result"
        },
        {
          "data": {
            "image/png": "[encoded data removed]",
            "text/plain": [
              "<Figure size 720x360 with 2 Axes>"
            ]
          },
          "metadata": {
            "needs_background": "light"
          },
          "output_type": "display_data"
        }
      ],
      "source": [
        "policy_df = np.c_[ np.array( list(policy.keys()  ) ), \n",
        "                   np.array( list(policy.values()) ) ]\n",
        "\n",
        "policy_df = pd.DataFrame( policy_df, columns=['Player Score', \n",
        "                                              'Dealer Showing Card', \n",
        "                                              'Player Has Ace', \n",
        "                                              'action'] \n",
        "                         )\n",
        "\n",
        "\n",
        "policy_ace = ( policy_df.query(\"`Player Has Ace`==1\")\n",
        "               .pivot( 'Player Score', 'Dealer Showing Card', 'action' )\n",
        "               .sort_values('Player Score', ascending=False)\n",
        "             )\n",
        "policy_no_ace = ( policy_df.query(\"`Player Has Ace`==0\")\n",
        "                  .pivot( 'Player Score', 'Dealer Showing Card', 'action' )\n",
        "                  .sort_values('Player Score', ascending=False)\n",
        "                )\n",
        "\n",
        "\n",
        "fig, ax = plt.subplots( figsize=(10,5), ncols=2 )\n",
        "sns.heatmap(data = policy_ace,\n",
        "            ax=ax[0],\n",
        "            square=True,\n",
        "            cbar=False\n",
        "           )\n",
        "sns.heatmap(data=policy_no_ace,\n",
        "            ax=ax[1],\n",
        "            square=True,\n",
        "            cbar=False\n",
        "           )\n",
        "\n",
        "ax[0].set_title(\"Usable ace\")\n",
        "ax[1].set_title(\"No usable ace\")\n",
        "\n",
        "ax[0].text( 4.5, 2, \"STICK\", ha='center', va='center', color='w', fontsize=20 )\n",
        "ax[0].text( 4.5, 6, \"HIT\", ha='center', va='center', color='k', fontsize=20 )\n",
        "\n",
        "ax[1].text( 4.5, 2, \"STICK\", ha='center', va='center', color='w', fontsize=20 )\n",
        "ax[1].text( 8, 7, \"HIT\", ha='center', va='center', color='k', fontsize=20 )\n",
        "\n",
        "fig.suptitle( \"Policy for each state\" )"
      ]
    },
    {
      "cell_type": "markdown",
      "metadata": {
        "id": "G_T26yFGvC8u"
      },
      "source": [
        "## Monte Carlo without exploring starts\n"
      ]
    },
    {
      "cell_type": "markdown",
      "metadata": {
        "id": "NfJI3BWNvlH3"
      },
      "source": [
        "### On-Policy"
      ]
    },
    {
      "cell_type": "markdown",
      "metadata": {
        "id": "A9Qm-oFDzYAW"
      },
      "source": [
        "Estimate a soft policy $\\pi$ such that $\\pi(a|S_t) > 0 \\ \\forall a\\in A$.\n",
        "\n",
        "The discussed method is the $\\varepsilon$-greedy method, where\n",
        "the policy $\\pi$ behavior as follows\n",
        "\n",
        "$\n",
        "\\pi(a, S) = \n",
        "\\left\\{\\begin{matrix}\n",
        " 1-\\varepsilon& \\text{To select the best action} \\\\ \n",
        " \\varepsilon& \\text{To select a random action}  \n",
        "\\end{matrix}\\right.\n",
        "$\n",
        "\n",
        "This means that each non-optimal action has a probability of $\\frac{\\varepsilon}{|A(S)|}$ of being selected."
      ]
    },
    {
      "cell_type": "markdown",
      "metadata": {
        "id": "sP5m1SabTzzm"
      },
      "source": [
        "## Example - Racetrack"
      ]
    },
    {
      "cell_type": "markdown",
      "metadata": {
        "id": "wOkzhow5joD1"
      },
      "source": [
        "Implementing the racetrack"
      ]
    },
    {
      "cell_type": "code",
      "execution_count": 64,
      "metadata": {
        "id": "NY-qmiINibg2"
      },
      "outputs": [],
      "source": [
        "TRACK = 0\n",
        "OFF_TRACK = 1\n",
        "START = 2\n",
        "FINISH = 3\n",
        "TOP_SPEED = 5\n",
        "\n",
        "class Racetrack():\n",
        "  def __init__(self, nlin=40, ncol=40):\n",
        "    self._create_track(nlin, ncol)\n",
        "    self.initialize_states()\n",
        "    self.initialize_actions()\n",
        "    self.initalize_scores()\n",
        "\n",
        "  def _check_map_limits(self, line, column):\n",
        "    '''\n",
        "    Check if the coordinate is in the matrix limits\n",
        "    '''\n",
        "    if not ( line<self.racetrack.shape[0] and column<self.racetrack.shape[1] ):\n",
        "      return False # Check map limits\n",
        "    if not ( line>=0 and column>=0 ):\n",
        "      return False # Check map limits\n",
        "\n",
        "    return True\n",
        "\n",
        "  def _check_track(self, line, column):\n",
        "    '''\n",
        "    Defines the track structure \n",
        "    '''\n",
        "    l = line\n",
        "    c = column\n",
        "    if not ( (l+c > 20 and l+c < 45) and not ( l>8 and c>20 ) ):\n",
        "      return False # Check track\n",
        "    return self._check_map_limits(line, column)\n",
        "  \n",
        "  def _create_track(self, nlin, ncol):\n",
        "    '''\n",
        "    Create a matrix describing the track structure\n",
        "    '''\n",
        "    self.racetrack = np.zeros( (nlin, ncol) )\n",
        "    self.racetrack[:,:] = OFF_TRACK\n",
        "    \n",
        "    for l in range( nlin ):\n",
        "      for c in range( ncol ):\n",
        "        if self._check_track(l, c):\n",
        "          self.racetrack[l][c] = TRACK\n",
        "          if c==ncol-1:\n",
        "            self.racetrack[l][c] = FINISH\n",
        "          if l==nlin-1:\n",
        "            self.racetrack[l][c] = START\n",
        "  \n",
        "  def initialize_states(self):\n",
        "\n",
        "    # The states are all valid positons with all valid speeds + terminal state\n",
        "    valid_positions = np.argwhere( self.racetrack != OFF_TRACK ).tolist()\n",
        "    speeds = np.array( \n",
        "                      list( \n",
        "                           itertools.product( \n",
        "                                             range(0,TOP_SPEED+1), \n",
        "                                             repeat=2\n",
        "                                            ) \n",
        "                          ) \n",
        "                     ).tolist()\n",
        "    \n",
        "    # Defining states\n",
        "    self._id_to_state = dict( \n",
        "                             enumerate( \n",
        "                                       itertools.product(\n",
        "                                                         valid_positions, \n",
        "                                                         speeds\n",
        "                                                        )\n",
        "                                      ) \n",
        "                            )\n",
        "    self._state_to_id = {\n",
        "                          ( tuple(state[0]), tuple(state[1]) ):id \n",
        "                          for id,state in self._id_to_state.items() \n",
        "                        }\n",
        "                        \n",
        "    self.terminal_state = -1\n",
        "    self.states = [ i-1 for i in range( 0, len(self._state_to_id)+1 ) ]\n",
        "    \n",
        "    # Starts and finishing positions\n",
        "    self._starts = np.argwhere( self.racetrack == START ).tolist()\n",
        "    self._finishes = np.argwhere( self.racetrack == FINISH )\n",
        "\n",
        "    self._finish_line_start = np.min( self._finishes[:,0] )\n",
        "    self._finish_line_end = np.max( self._finishes[:,0] )\n",
        "    self._finish_line_col = self._finishes[0,1]\n",
        "    self._finishes = self._finishes.tolist()\n",
        "\n",
        "  def initialize_actions(self):\n",
        "    self.actions = [ i for i in range(9) ]\n",
        "    self._id_to_action = dict( \n",
        "                              enumerate( \n",
        "                                         itertools.product(\n",
        "                                                           [-1,0,1], \n",
        "                                                           repeat=2\n",
        "                                                          ) \n",
        "                                         ) \n",
        "                             )\n",
        "  \n",
        "  def random_start_position(self):\n",
        "    '''\n",
        "    Puts the player in a random start position\n",
        "    '''\n",
        "    self.position = self._starts[ np.random.randint(0, len(self._starts)) ].copy()\n",
        "\n",
        "  def initalize_scores(self):\n",
        "    self.scores = []\n",
        "\n",
        "  def initialize(self):\n",
        "    self.random_start_position()\n",
        "    self.speed = [0,0]\n",
        "    self._player_in_game = True\n",
        "    self.scores.append( 0 )\n",
        "\n",
        "    if len( self.scores )%100000==0:\n",
        "      print( f\"Train n° {len( self.scores )}\" )\n",
        "\n",
        "  def state(self):\n",
        "    if not self._player_in_game:\n",
        "      return self.terminal_state\n",
        "\n",
        "    return self._state_to_id[ ( tuple(self.position), tuple(self.speed) ) ]\n",
        "\n",
        "  def _check_victory(self):\n",
        "    return (self.position[0] >= self._finish_line_start \n",
        "            and self.position[0] <= self._finish_line_end\n",
        "            and self.position[1] >= self._finish_line_col\n",
        "            )\n",
        "\n",
        "  def reward(self, action, random_increments=True):\n",
        "    # Decoding action\n",
        "    action = self._id_to_action[ action ]\n",
        "\n",
        "    self.position[0] -= self.speed[0]\n",
        "    self.position[1] += self.speed[1]\n",
        "\n",
        "    acceleration = list(action)\n",
        "    # With p=0.1, the speed increment is zero\n",
        "    if random_increments and np.random.uniform(0,1) < 0.1:\n",
        "      acceleration[0] = 0\n",
        "      acceleration[1] = 0\n",
        "\n",
        "    # Update speeds based on acceleration\n",
        "    new_speed_0 = max(0, min(TOP_SPEED, self.speed[0]+acceleration[0]) )\n",
        "    new_speed_1 = max(0, min(TOP_SPEED, self.speed[1]+acceleration[1]) )\n",
        "    \n",
        "    # Both speeds cannot be 0\n",
        "    if new_speed_0 == 0 and new_speed_1 == 0:\n",
        "      if np.random.randint( 0, 1+1 ) == 0:\n",
        "        new_speed_0 = max( 1, self.speed[0] )\n",
        "      else:\n",
        "        new_speed_1 = max( 1, self.speed[1] )\n",
        "    self.speed[0] = new_speed_0\n",
        "    self.speed[1] = new_speed_1\n",
        "\n",
        "    # Checking victory\n",
        "    if self._check_victory():\n",
        "      self._player_in_game = False\n",
        "\n",
        "      self.scores[-1] += 1\n",
        "      return 1\n",
        "    \n",
        "    # Checking colision\n",
        "    if not self._check_track( self.position[0], self.position[1] ):\n",
        "      self.random_start_position()\n",
        "    \n",
        "    self.scores[-1] += -1\n",
        "    return -1\n",
        "\n",
        "  def is_terminal(self):\n",
        "    return not self._player_in_game"
      ]
    },
    {
      "cell_type": "markdown",
      "metadata": {
        "id": "pVSy2D3SfGjv"
      },
      "source": [
        "Creating and visualizing the racetrack"
      ]
    },
    {
      "cell_type": "code",
      "execution_count": 65,
      "metadata": {
        "id": "9D5UXElZu3BD"
      },
      "outputs": [],
      "source": [
        "racetrack = Racetrack()"
      ]
    },
    {
      "cell_type": "code",
      "execution_count": 66,
      "metadata": {
        "colab": {
          "base_uri": "https://localhost:8080/",
          "height": 373
        },
        "id": "J2dqPX40qH4b",
        "outputId": "7e611916-2f93-4a42-c2a2-4a21aca56b3e"
      },
      "outputs": [
        {
          "name": "stderr",
          "output_type": "stream",
          "text": [
            "C:\\Users\\JoãoPedro\\AppData\\Local\\Temp\\ipykernel_5340\\2346168526.py:12: UserWarning: Matplotlib is currently using module://matplotlib_inline.backend_inline, which is a non-GUI backend, so cannot show the figure.\n",
            "  fig.show()\n"
          ]
        },
        {
          "data": {
            "image/png": "[encoded data removed]",
            "text/plain": [
              "<Figure size 432x432 with 1 Axes>"
            ]
          },
          "metadata": {
            "needs_background": "light"
          },
          "output_type": "display_data"
        }
      ],
      "source": [
        "fig, ax = plt.subplots( figsize=(6,6) )\n",
        "track_cmap = ['#d9d9d9', 'green', 'orange', 'blue']\n",
        "sns.heatmap(racetrack.racetrack, square=True, cbar=False, \n",
        "            cmap=track_cmap, \n",
        "            linewidth=.005,\n",
        "            ax=ax \n",
        "            )\n",
        "\n",
        "ax.axis(\"off\")\n",
        "ax.set_title(\"Track\")\n",
        "\n",
        "fig.show()"
      ]
    },
    {
      "cell_type": "markdown",
      "metadata": {
        "id": "c5eJ6elyfPFv"
      },
      "source": [
        "Training the MonteCarlo player"
      ]
    },
    {
      "cell_type": "code",
      "execution_count": null,
      "metadata": {
        "colab": {
          "base_uri": "https://localhost:8080/"
        },
        "id": "FFnlGNeeqKUr",
        "outputId": "9b19fbb6-7e71-4574-d012-e56033a45625"
      },
      "outputs": [],
      "source": [
        "%%time\n",
        "mc_pilot = MonteCarlo( eps=0.1, episodes=5000000 )\n",
        "mc_pilot.fit( racetrack )"
      ]
    },
    {
      "cell_type": "code",
      "execution_count": 101,
      "metadata": {
        "colab": {
          "base_uri": "https://localhost:8080/",
          "height": 311
        },
        "id": "POHPg_EwZZ7n",
        "outputId": "222dc39e-2377-44aa-c23d-0ce755f72de6"
      },
      "outputs": [
        {
          "data": {
            "text/plain": [
              "Text(0.5, 1.0, 'Score evolution in each episode')"
            ]
          },
          "execution_count": 101,
          "metadata": {},
          "output_type": "execute_result"
        },
        {
          "data": {
            "image/png": "[encoded data removed]",
            "text/plain": [
              "<Figure size 432x288 with 1 Axes>"
            ]
          },
          "metadata": {
            "needs_background": "light"
          },
          "output_type": "display_data"
        }
      ],
      "source": [
        "fig, ax = plt.subplots()\n",
        "ax.plot( racetrack.scores[:1000] )\n",
        "\n",
        "ax.set_title(\"Score evolution in each episode\")"
      ]
    },
    {
      "cell_type": "markdown",
      "metadata": {
        "id": "mrHhPyH_wn4t"
      },
      "source": [
        "Visualizing paths"
      ]
    },
    {
      "cell_type": "code",
      "execution_count": 92,
      "metadata": {
        "id": "SG6eb4Vawuzb"
      },
      "outputs": [],
      "source": [
        "racetrack.initialize()\n",
        "actions = []\n",
        "states = []\n",
        "rewards = []\n",
        "## Playing the game\n",
        "time = 0\n",
        "while True:\n",
        "  state = mc_pilot.env_interface.state(  )\n",
        "  action = mc_pilot.env_interface.choose_greedy_action(state)\n",
        "  reward = mc_pilot.env_interface.reward(action)\n",
        "\n",
        "  if mc_pilot.env_interface.is_terminal():\n",
        "    break\n",
        "  rewards.append( reward )\n",
        "  states.append( racetrack._id_to_state[ state ] )\n",
        "  actions.append( action )\n",
        "  time+=1"
      ]
    },
    {
      "cell_type": "markdown",
      "metadata": {
        "id": "9y_CI5V383oS"
      },
      "source": [
        "Defining speed colors"
      ]
    },
    {
      "cell_type": "code",
      "execution_count": 93,
      "metadata": {
        "id": "hgo7zt5BlRwz"
      },
      "outputs": [],
      "source": [
        "def transform_color_tuple_into_hex(color):\n",
        "  color = ( int(255*color[0]), int(255*color[1]), int(255*color[2]) )\n",
        "  return \"#{:02x}{:02x}{:02x}\".format(*color)"
      ]
    },
    {
      "cell_type": "code",
      "execution_count": 94,
      "metadata": {
        "id": "g8hlEybC24nj"
      },
      "outputs": [],
      "source": [
        "speed_l_colors = sns.color_palette( 'Reds', n_colors=TOP_SPEED+1 )\n",
        "speed_c_colors = sns.color_palette( 'Blues', n_colors=TOP_SPEED+1 )\n",
        "speed_colors = []\n",
        "speed_to_id = dict()\n",
        "\n",
        "for i, speed in enumerate( itertools.product( range(TOP_SPEED+1), repeat=2 ) ):\n",
        "  speed_colors.append( tuple(\n",
        "                             (speed[0]*np.array(speed_l_colors[speed[0]])+\n",
        "                              speed[1]*np.array(speed_c_colors[speed[1]])\n",
        "                              )/(speed[0]+speed[1])\n",
        "                             )\n",
        "                       if speed[0]+speed[1] != 0\n",
        "                       else \n",
        "                       tuple(\n",
        "                             np.array(speed_l_colors[speed[0]])/2+\n",
        "                             np.array(speed_c_colors[speed[1]])/2\n",
        "                            )\n",
        "                     )\n",
        "  speed_to_id[speed] = i\n",
        "\n",
        "\n",
        "speed_palette = list(sns.color_palette( speed_colors ).as_hex())"
      ]
    },
    {
      "cell_type": "code",
      "execution_count": 95,
      "metadata": {
        "id": "td9HKRgF0DdP"
      },
      "outputs": [],
      "source": [
        "track = np.zeros( racetrack.racetrack.shape )\n",
        "for position, speed in states:\n",
        "  track[ tuple(position) ] = speed_to_id[ tuple(speed) ]"
      ]
    },
    {
      "cell_type": "markdown",
      "metadata": {
        "id": "ucx4Oehnfcsv"
      },
      "source": [
        "Visualizing the track with the player's speed "
      ]
    },
    {
      "cell_type": "code",
      "execution_count": 96,
      "metadata": {
        "colab": {
          "base_uri": "https://localhost:8080/",
          "height": 373
        },
        "id": "sUAqi7Fyx68k",
        "outputId": "d8a77b80-1b63-4a59-b2fc-955f9fcc2edf"
      },
      "outputs": [
        {
          "name": "stderr",
          "output_type": "stream",
          "text": [
            "C:\\Users\\JoãoPedro\\AppData\\Local\\Temp\\ipykernel_5340\\3217729954.py:21: UserWarning: Matplotlib is currently using module://matplotlib_inline.backend_inline, which is a non-GUI backend, so cannot show the figure.\n",
            "  fig.show()\n"
          ]
        },
        {
          "data": {
            "image/png": "[encoded data removed]",
            "text/plain": [
              "<Figure size 864x432 with 2 Axes>"
            ]
          },
          "metadata": {
            "needs_background": "light"
          },
          "output_type": "display_data"
        }
      ],
      "source": [
        "fig, ax = plt.subplots( figsize=(12,6), ncols=2, gridspec_kw={'width_ratios': [2, 1]} )\n",
        "sns.heatmap(racetrack.racetrack, square=True, cbar=False, \n",
        "            cmap=track_cmap, \n",
        "            linewidth=.005,\n",
        "            ax=ax[0]\n",
        "            )\n",
        "\n",
        "sns.heatmap(track, square=True, cbar=False, \n",
        "            mask=(track == 0),\n",
        "            cmap=speed_palette, \n",
        "            linewidth=.005,\n",
        "            ax=ax[0]\n",
        "            )\n",
        "\n",
        "ax[0].axis(\"off\")\n",
        "ax[0].set_title(\"Track\")\n",
        "\n",
        "ax[1].imshow( np.rot90( np.array(speed_colors).reshape((TOP_SPEED+1,TOP_SPEED+1,3)) ) )\n",
        "ax[1].set_xlabel(\"Vertical Speed\")\n",
        "ax[1].set_ylabel(\"Horizontal Speed\")\n",
        "fig.show()"
      ]
    }
  ],
  "metadata": {
    "colab": {
      "collapsed_sections": [],
      "name": "Monte Carlo.ipynb",
      "provenance": []
    },
    "kernelspec": {
      "display_name": "Python 3",
      "name": "python3"
    },
    "language_info": {
      "codemirror_mode": {
        "name": "ipython",
        "version": 3
      },
      "file_extension": ".py",
      "mimetype": "text/x-python",
      "name": "python",
      "nbconvert_exporter": "python",
      "pygments_lexer": "ipython3",
      "version": "3.9.5"
    }
  },
  "nbformat": 4,
  "nbformat_minor": 0
}
