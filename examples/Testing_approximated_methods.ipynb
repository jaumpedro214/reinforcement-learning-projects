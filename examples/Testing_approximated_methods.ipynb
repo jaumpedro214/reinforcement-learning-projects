{
 "cells": [
  {
   "cell_type": "markdown",
   "metadata": {},
   "source": [
    "# Approximated Methods"
   ]
  },
  {
   "cell_type": "code",
   "execution_count": 1,
   "metadata": {},
   "outputs": [],
   "source": [
    "import numpy as np\n",
    "import itertools\n",
    "import pandas as pd\n",
    "\n",
    "import matplotlib.pyplot as plt\n",
    "import seaborn as sns\n",
    "\n",
    "import os\n",
    "import sys\n",
    "\n",
    "sys.path.append( os.path.join('..') )\n",
    "\n",
    "from RLearning.environment import RandomDiscreteWalk, MontainCar\n",
    "\n",
    "from RLearning.monte_carlo import MonteCarlo\n",
    "from RLearning.temporal_difference import NStepSarsa\n",
    "from RLearning.feature_extraction import TileCoding\n",
    "from RLearning.interfaces import ApproximatedInterface\n",
    "\n",
    "from sklearn.linear_model import SGDRegressor\n",
    "\n",
    "from sklearn.metrics import mean_squared_error"
   ]
  },
  {
   "cell_type": "markdown",
   "metadata": {},
   "source": [
    "## 1000-state Random Walk "
   ]
  },
  {
   "cell_type": "code",
   "execution_count": 2,
   "metadata": {},
   "outputs": [],
   "source": [
    "envrioment = RandomDiscreteWalk( n_states=1000, step_size=100 )"
   ]
  },
  {
   "cell_type": "code",
   "execution_count": 3,
   "metadata": {},
   "outputs": [],
   "source": [
    "control_fex = TileCoding( n_bins=[10+1, 1], limits=[ [0, 1000], [0,0] ], tile_shift=[0,0] )\n",
    "control_reg = SGDRegressor( alpha=2*10e-5, random_state=214, learning_rate=\"constant\" )\n",
    "\n",
    "env_interface= ApproximatedInterface( control_feature_extractor=control_fex, \n",
    "                                      control_value_approximator=control_reg\n",
    "                                    )\n",
    "\n",
    "mc_agent = MonteCarlo( env_interface=env_interface, episodes=500000 )"
   ]
  },
  {
   "cell_type": "code",
   "execution_count": 4,
   "metadata": {},
   "outputs": [
    {
     "name": "stdout",
     "output_type": "stream",
     "text": [
      "CPU times: total: 16h 26min 18s\n",
      "Wall time: 13h 43min 15s\n"
     ]
    }
   ],
   "source": [
    "%%time\n",
    "mc_agent.fit( envrioment )"
   ]
  },
  {
   "cell_type": "code",
   "execution_count": 5,
   "metadata": {},
   "outputs": [
    {
     "data": {
      "text/plain": [
       "[<matplotlib.lines.Line2D at 0x3927741160>]"
      ]
     },
     "execution_count": 5,
     "metadata": {},
     "output_type": "execute_result"
    },
    {
     "data": {
      "image/png": "[encoded data removed]",
      "text/plain": [
       "<Figure size 576x432 with 1 Axes>"
      ]
     },
     "metadata": {
      "needs_background": "light"
     },
     "output_type": "display_data"
    }
   ],
   "source": [
    "true_values = envrioment.compute_true_solution()[:-1]\n",
    "pred_values = np.array([ mc_agent.env_interface.get_control_value(i,0) for i in range(1, 1000) ])\n",
    "\n",
    "fig, ax = plt.subplots( figsize=(8,6) )\n",
    "\n",
    "ax.plot(true_values)\n",
    "ax.plot(pred_values)"
   ]
  },
  {
   "cell_type": "markdown",
   "metadata": {},
   "source": [
    "## Montain car task"
   ]
  },
  {
   "cell_type": "code",
   "execution_count": 4,
   "metadata": {},
   "outputs": [],
   "source": [
    "envrioment = MontainCar()"
   ]
  },
  {
   "cell_type": "code",
   "execution_count": 7,
   "metadata": {},
   "outputs": [
    {
     "name": "stdout",
     "output_type": "stream",
     "text": [
      "CPU times: total: 7min 4s\n",
      "Wall time: 7min 7s\n"
     ]
    }
   ],
   "source": [
    "%%time\n",
    "alphas = np.linspace(0, 1, 20)/8\n",
    "\n",
    "sgd_reg = SGDRegressor( alpha=0.5/8, random_state=214, learning_rate=\"constant\" )\n",
    "tc_ext = TileCoding( n_bins=[8, 8, 3], \n",
    "                     limits=[[-1.21, 0.51], [-0.0071, 0.0071], [0,2]], \n",
    "                     tile_shift=[0,0,0] )\n",
    "\n",
    "app_interface = ApproximatedInterface( control_feature_extractor=tc_ext,\n",
    "                                       control_value_approximator=sgd_reg\n",
    "                                     )\n",
    "\n",
    "                                     \n",
    "nstep_sarsa = NStepSarsa( env_interface=app_interface, episodes=50, n_steps=4 )\n",
    "nstep_sarsa.fit( envrioment )"
   ]
  }
 ],
 "metadata": {
  "interpreter": {
   "hash": "a1affe4dc2c83419585a5a478d1684e545fbc7e4e18e3d0a42beb86f60487e78"
  },
  "kernelspec": {
   "display_name": "Python 3.9.5 64-bit (system)",
   "language": "python",
   "name": "python3"
  },
  "language_info": {
   "codemirror_mode": {
    "name": "ipython",
    "version": 3
   },
   "file_extension": ".py",
   "mimetype": "text/x-python",
   "name": "python",
   "nbconvert_exporter": "python",
   "pygments_lexer": "ipython3",
   "version": "3.9.5"
  },
  "orig_nbformat": 4
 },
 "nbformat": 4,
 "nbformat_minor": 2
}
